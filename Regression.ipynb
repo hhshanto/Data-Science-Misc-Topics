{
 "cells": [
  {
   "cell_type": "markdown",
   "metadata": {},
   "source": [
    "**What Is Regression?**\n",
    "\n",
    "Regression is a statistical method used in finance, investing, and other disciplines that attempts to determine the strength and character of the relationship between one dependent variable (usually denoted by Y) and a series of other variables (known as independent variables).\n",
    "\n",
    "More specifically, Regression analysis helps us to understand how the value of the dependent variable is changing corresponding to an independent variable when other independent variables are held fixed. It predicts continuous/real values such as temperature, age, salary, price, etc."
   ]
  },
  {
   "cell_type": "markdown",
   "metadata": {},
   "source": [
    "Regression is a **supervised learning technique** which helps in finding the correlation between variables and enables us to predict the continuous output variable based on the one or more predictor variables. It is mainly used for **prediction, forecasting, time series modeling, and determining the causal-effect relationship between variables.**"
   ]
  },
  {
   "cell_type": "markdown",
   "metadata": {},
   "source": [
    "In Regression, we plot a graph between the variables which best fits the given datapoints, using this plot, the machine learning model can make predictions about the data. In simple words, **\"Regression shows a line or curve that passes through all the datapoints on target-predictor graph in such a way that the vertical distance between the datapoints and the regression line is minimum.\"** The distance between datapoints and line tells whether a model has captured a strong relationship or not.\n",
    "\n",
    "Some examples of regression can be as:\n",
    "\n",
    "* Prediction of rain using temperature and other factors\n",
    "* Determining Market trends\n",
    "* Prediction of road accidents due to rash driving."
   ]
  },
  {
   "cell_type": "markdown",
   "metadata": {},
   "source": [
    "## Terminologies Related to the Regression Analysis:"
   ]
  },
  {
   "cell_type": "markdown",
   "metadata": {},
   "source": [
    "* **Dependent Variable**: The main factor in Regression analysis which we want to predict or understand is called the dependent variable. It is also called target variable.\n",
    "* **Independent Variable**: The factors which affect the dependent variables or which are used to predict the values of the dependent variables are called independent variable, also called as a predictor.\n",
    "* **Outliers**: Outlier is an observation which contains either very low value or very high value in comparison to other observed values. An outlier may hamper the result, so it should be avoided.\n",
    "* **Multicollinearity**: If the independent variables are highly correlated with each other than other variables, then such condition is called **Multicollinearity**. It should not be present in the dataset, because it creates problem while ranking the most affecting variable.\n",
    "* **Underfitting and Overfitting**: If our algorithm works well with the training dataset but not well with test dataset, then such problem is called Overfitting. And if our algorithm does not perform well even with training dataset, then such problem is called underfitting.\n",
    "* **Heteroscedasticity** :When the variation between the target variable and the independent variable is not constant, it is called heteroscedasticity. Example-As one’s income increases, the variability of food consumption will increase. A poorer person will spend a rather constant amount by always eating inexpensive food; a wealthier person may occasionally buy inexpensive food and at other times, eat expensive meals. Those with higher incomes display a greater variability of food consumption."
   ]
  },
  {
   "cell_type": "markdown",
   "metadata": {},
   "source": [
    "**Types of Regression:**\n",
    "There are various types of regressions which are used in data science and machine learning. Each type has its own importance on different scenarios, but at the core, all the regression methods analyze the effect of the independent variable on dependent variables. Here we are discussing some important types of regression which are given below:\n",
    "\n",
    "* Linear Regression\n",
    "* Logistic Regression\n",
    "* Polynomial Regression\n",
    "* Support Vector Regression\n",
    "* Decision Tree Regression\n",
    "* Random Forest Regression\n",
    "* Ridge Regression\n",
    "* Lasso Regression:"
   ]
  },
  {
   "cell_type": "markdown",
   "metadata": {},
   "source": [
    "## Linear Regression"
   ]
  },
  {
   "cell_type": "markdown",
   "metadata": {},
   "source": [
    "\n",
    "* Linear regression is a statistical regression method which is used for predictive analysis.\n",
    "* It is one of the very simple and easy algorithms which works on regression and shows the relationship between the **continuous variables.**\n",
    "* It is used for solving the regression problem in machine learning.\n",
    "* Linear regression shows the linear relationship between the independent variable (X-axis) and the dependent variable (Y-axis), hence called linear regression.\n",
    "* If there is only one input variable (x), then such linear regression is called **simple linear regression**. And if there is more than one input variable, then such linear regression is called **multiple linear regression**.\n",
    "* The relationship between variables in the linear regression model can be explained using the below image. Here we are predicting the salary of an employee on the basis of the year of experience."
   ]
  },
  {
   "cell_type": "code",
   "execution_count": 3,
   "metadata": {},
   "outputs": [
    {
     "data": {
      "image/png": "[encoded data removed]",
      "text/plain": [
       "<IPython.core.display.Image object>"
      ]
     },
     "execution_count": 3,
     "metadata": {},
     "output_type": "execute_result"
    }
   ],
   "source": [
    "from IPython.display import Image\n",
    "Image(filename='Data/types-of-regression2.png') "
   ]
  },
  {
   "cell_type": "markdown",
   "metadata": {},
   "source": [
    "* Mathematical equation for Linear regression:\n",
    "\n",
    "Y= aX+b  "
   ]
  },
  {
   "cell_type": "markdown",
   "metadata": {},
   "source": [
    "Here, \n",
    "\n",
    "* Y = dependent variables (target variables),\n",
    "* X= Independent variables (predictor variables),\n",
    "* a and b are the linear coefficients\n",
    "\n",
    "Some popular applications of linear regression are:\n",
    "\n",
    "* Analyzing trends and sales estimates\n",
    "* Salary forecasting\n",
    "* Real estate prediction\n",
    "* Arriving at ETAs in traffic."
   ]
  },
  {
   "cell_type": "markdown",
   "metadata": {},
   "source": [
    "## Logistic Regression"
   ]
  },
  {
   "cell_type": "markdown",
   "metadata": {},
   "source": [
    "* Logistic regression is another supervised learning algorithm which is used to solve the **classification problems**. In classification problems, we have dependent variables in a binary or discrete format such as **0 or 1**.\n",
    "* Logistic regression algorithm works with the **categorical variable such as 0 or 1, Yes or No, True or False, Spam or not spam, etc.**\n",
    "* It is a predictive analysis algorithm which works on the concept of probability.\n",
    "* Logistic regression is a type of regression, but it is different from the linear regression algorithm in the term how they are used.\n",
    "* Logistic regression uses sigmoid function or logistic function which is a complex cost function. This sigmoid function is used to model the data in logistic regression.\n",
    "\n"
   ]
  },
  {
   "cell_type": "markdown",
   "metadata": {},
   "source": [
    "**There are three types of logistic regression:**\n",
    "\n",
    "* Binary(0/1, pass/fail)\n",
    "* Multi(cats, dogs, lions)\n",
    "* Ordinal(low, medium, high)"
   ]
  },
  {
   "cell_type": "markdown",
   "metadata": {},
   "source": [
    "## Decision Tree Regression:"
   ]
  },
  {
   "cell_type": "markdown",
   "metadata": {},
   "source": [
    "* Decision Tree is a supervised learning algorithm which can be used for solving **both classification and regression problems**.\n",
    "* It can solve problems for **both categorical and numerical data**\n",
    "* Decision Tree regression builds a tree-like structure in which each internal node represents the \"test\" for an attribute, each branch represent the result of the test, and each leaf node represents the final decision or result.\n",
    "* A decision tree is constructed starting from the root node/parent node (dataset), which splits into left and right child nodes (subsets of dataset). These child nodes are further divided into their children node, and themselves become the parent node of those nodes. Consider the below image:"
   ]
  },
  {
   "cell_type": "code",
   "execution_count": 4,
   "metadata": {},
   "outputs": [
    {
     "data": {
      "image/png": "[encoded data removed]",
      "text/plain": [
       "<IPython.core.display.Image object>"
      ]
     },
     "execution_count": 4,
     "metadata": {},
     "output_type": "execute_result"
    }
   ],
   "source": [
    "from IPython.display import Image\n",
    "Image(filename='Data/types-of-regression7.png') "
   ]
  },
  {
   "cell_type": "markdown",
   "metadata": {},
   "source": [
    "Above image showing the example of Decision Tee regression, here, the model is trying to predict the choice of a person between Sports cars or Luxury car.\n",
    "\n",
    "* Random forest is one of the most powerful supervised learning algorithms which is capable of performing regression as well as classification tasks.\n",
    "* The Random Forest regression is an ensemble learning method which combines multiple decision trees and predicts the final output based on the average of each tree output. The combined decision trees are called as base models, and it can be represented more formally as:\n",
    "\n",
    "g(x)= f0(x)+ f1(x)+ f2(x)+....\n",
    "\n",
    "* Random forest uses Bagging or Bootstrap Aggregation technique of **[Ensemble learning](./Ensemble_Learning.ipynb)** in which aggregated decision tree runs in parallel and do not interact with each other.\n",
    "* With the help of Random Forest regression, we can prevent Overfitting in the model by creating random subsets of the dataset.\n"
   ]
  },
  {
   "cell_type": "code",
   "execution_count": null,
   "metadata": {},
   "outputs": [],
   "source": []
  },
  {
   "cell_type": "markdown",
   "metadata": {},
   "source": [
    "https://www.javatpoint.com/regression-analysis-in-machine-learning\n",
    "\n",
    "https://www.mygreatlearning.com/blog/what-is-regression/"
   ]
  }
 ],
 "metadata": {
  "kernelspec": {
   "display_name": "Python 3",
   "language": "python",
   "name": "python3"
  },
  "language_info": {
   "codemirror_mode": {
    "name": "ipython",
    "version": 3
   },
   "file_extension": ".py",
   "mimetype": "text/x-python",
   "name": "python",
   "nbconvert_exporter": "python",
   "pygments_lexer": "ipython3",
   "version": "3.8.3"
  }
 },
 "nbformat": 4,
 "nbformat_minor": 4
}
