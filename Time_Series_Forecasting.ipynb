{
 "cells": [
  {
   "cell_type": "markdown",
   "metadata": {},
   "source": [
    "# What is time series forecasting?"
   ]
  },
  {
   "cell_type": "markdown",
   "metadata": {},
   "source": [
    "Time series forecasting is the process of analyzing time series data using statistics and modeling to make predictions and inform strategic decision-making. It’s not always an exact prediction, and likelihood of forecasts can vary wildly—especially when dealing with the commonly fluctuating variables in time series data as well as factors outside our control. However, forecasting insight about which outcomes are more likely—or less likely—to occur than other potential outcomes. Often, the more comprehensive the data we have, the more accurate the forecasts can be. While forecasting and “prediction” generally mean the same thing, there is a notable distinction. In some industries, forecasting might refer to data at a specific future point in time, while prediction refers to future data in general. Series forecasting is often used in conjunction with time series analysis. Time series analysis involves developing models to gain an understanding of the data to understand the underlying causes. Analysis can provide the “why” behind the outcomes you are seeing. Forecasting then takes the next step of what to do with that knowledge and the predictable extrapolations of what might happen in the future."
   ]
  },
  {
   "cell_type": "markdown",
   "metadata": {},
   "source": [
    "## Applications of time series forecasting"
   ]
  },
  {
   "cell_type": "markdown",
   "metadata": {},
   "source": [
    "Forecasting has a range of applications in various industries. It has tons of practical applications including: weather forecasting, climate forecasting, economic forecasting, healthcare forecasting engineering forecasting, finance forecasting, retail forecasting, business forecasting, environmental studies forecasting, social studies forecasting, and more. Basically anyone who has consistent historical data can analyze that data with time series analysis methods and then model, forecasting, and predict. For some industries, the entire point of time series analysis is to facilitate forecasting. Some technologies, such as augmented analytics, can even automatically select forecasting from among other statistical algorithms if it offers the most certainty."
   ]
  },
  {
   "cell_type": "markdown",
   "metadata": {},
   "source": [
    "## When you should use time series analysis forecasting"
   ]
  },
  {
   "cell_type": "markdown",
   "metadata": {},
   "source": [
    "Naturally, there are limitations when dealing with the unpredictable and the unknown. Time series forecasting isn’t infallible and isn’t appropriate or useful for all situations. Because there really is no explicit set of rules for when you should or should not use forecasting, it is up to analysts and data teams to know the limitations of analysis and what their models can support. Not every model will fit every data set or answer every question. Data teams should use time series forecasting when they understand the business question and have the appropriate data and forecasting capabilities to answer that question. Good forecasting works with clean, time stamped data and can identify the genuine trends and patterns in historical data. Analysts can tell the difference between random fluctuations or outliers, and can separate genuine insights from seasonal variations. Time series analysis shows how data changes over time, and good forecasting can identify the direction in which the data is changing."
   ]
  },
  {
   "cell_type": "markdown",
   "metadata": {},
   "source": [
    "**Forecasting considerations:**\n",
    "\n",
    "The first thing to consider is the amount of data at hand—the more points of observation you have, the better your understanding. This is a constant across all types of analysis, and time series analysis forecasting is no exception. However, forecasting relies heavily on the amount of data, possibly even more so than other analyses. It builds directly off of past and current data. The less data you have to extrapolate, the less accurate your forecasting will be.\n",
    "\n",
    "**Time horizons:**\n",
    "\n",
    "The time frame of your forecast also matters. This is known as a time horizon—a fixed point in time where a process (like the forecast) ends. It’s much easier to forecast a shorter time horizon with fewer variables than it is a longer time horizon. The further out you go, the more unpredictable the variables will be. Alternatively, having less data can sometimes still work with forecasting if you adjust your time horizons. If you’re lacking long-term recorded data but you have an extensive amount of short-term data, you can create short-term forecasts.\n",
    "\n",
    "**Dynamic and static states:**\n",
    "\n",
    "The state of your forecasting and data makes a difference as to when you want to use it. Will the forecast be dynamic or static? If the forecast is static, it is set in stone once it is made, so make sure your data is adequate for a forecast. However, dynamic forecasts can be constantly updated with new information as it comes in. This means you can have less data at the time the forecast is made, and then get more accurate predictions as data is added.\n",
    "\n",
    "**Data quality:**\n",
    "\n",
    "As always with analysis, the best analysis is only useful if the data is of a useable quality. Data that is dirty, poorly processed, overly processed, or isn’t properly collected can significantly skew results and create wildly inaccurate forecasts. The typical guidelines for data quality apply here:\n",
    "\n",
    "* Make sure data is complete,\n",
    "* is not duplicated or redundant,\n",
    "* was collected in a timely and consistent manner,\n",
    "* is in a standard and valid format,\n",
    "* is accurate for what it is measuring,\n",
    "* and is uniform across sets.\n",
    "\n",
    "When dealing with time series analysis, it is even more important that the data was collected at consistent intervals over the period of time being tracked. This helps account for trends in the data, cyclic behavior, and seasonality. It also can help identify if an outlier is truly an outlier or if it is part of a larger cycle. Gaps in the data can hide cycles or seasonal variation, skewing the forecast as a result."
   ]
  },
  {
   "cell_type": "markdown",
   "metadata": {},
   "source": [
    "## Examples of time series forecasting\n",
    "\n",
    "Here are several examples from a range of industries to make the notions of time series analysis and forecasting more concrete:\n",
    "\n",
    "* Forecasting the closing price of a stock each day.\n",
    "* Forecasting product sales in units sold each day for a store.\n",
    "* Forecasting unemployment for a state each quarter.\n",
    "* Forecasting the average price of gasoline each day.\n",
    "* Forecasting power demand to decide whether to build another power generation plant in the next five years\n",
    "* Forecasting call volumes to schedule staff in a call center next week\n",
    "* Forecasting inventory requirements to stock inventory to meet demand\n",
    "* Forecasting supply and demand to optimize fleet management and other aspects of the supply chain\n",
    "* Predicting equipment failures and maintenance requirements to minimize downtime and uphold safety standards\n",
    "* Forecasting infection rates to optimize disease control and outbreak programs\n",
    "* Predicting customer ratings through to forecasting product sales\n",
    "\n",
    "Things that are random will never be forecast accurately, no matter how much data we collect or how consistently. For example: we can observe data every week for every lottery winner, but we can never forecast who will win next. Ultimately, it is up to your data and your time series data analysis as to when you should use forecasting, because forecasting varies widely due to various factors. Use your judgment and know your data. Keep this list of considerations in mind to always have an idea of how successful forecasting will be."
   ]
  },
  {
   "cell_type": "markdown",
   "metadata": {},
   "source": [
    "## How time series forecasts are developed"
   ]
  },
  {
   "cell_type": "markdown",
   "metadata": {},
   "source": [
    "Time series forecasts are developed based on time series analysis, which comprises methods for analyzing time series data to extract meaningful statistics and other characteristics of the data. The goal of time series forecasting is to predict a future value or classification at a particular point in time.\n",
    "\n",
    "Time series forecasting starts with a historical time series. Analysts examine the historical data and check for patterns of time decomposition, such as trends, seasonal patterns, cyclical patterns, and regularity. These patterns help inform data analysts and data scientists about which forecasting algorithms they should use for predictive modeling.\n",
    "\n",
    "The historical time series used for data analytics in preparation for forecasting is often referred to as sample data. Sample data is a subset of the data that is representative of the entire set of data. Every machine learning or classical forecasting method incorporates some statistical assumptions. Data scientists examine the sample data to understand its statistical attributes. This allows them to determine which models they can choose from and what data preprocessing needs to be applied to avoid violating any assumptions of their model selection.\n",
    "\n",
    "For example, many time series forecasting algorithms assume that the time series doesn’t exhibit a trend. So before using a forecasting algorithm, the data scientist must apply a variety of statistical tests on their sample data to determine whether or not their data exhibits a trend. If a trend is found, they can elect to either pick a different model or remove the trend from their data through differencing. Differencing is a statistical technique whereby a non-stationary time series, or a time series with trend, is transformed into a stationary time series.\n",
    "\n",
    "Many types of machine learning forecasting models require training. Data scientists train time series forecasting models on the sample data. Once the model has been trained, the data scientists test out their predictive modeling or forecasting algorithms on additional sample data to determine the accuracy of their model selection and to tweak the parameters of the model to optimize it further.\n",
    "\n",
    "To read about real-world time series forecasting use cases, see the Veritas storage forecasting and Playtech machine learning case studies."
   ]
  },
  {
   "cell_type": "markdown",
   "metadata": {},
   "source": [
    "**Time series regression**\n",
    "\n",
    "Regression models are among the most common types of time series analysis and forecasting techniques. Regression models describe a mathematical relationship between the forecasted variable and a single predictor variable. The most well-known regression model is a linear model. However, nonlinear regression models are extremely popular. Multiple regression models describe a relationship between a forecasted variable and several predictor variables. Understanding regression models is the basis for understanding more sophisticated time series forecasting methods."
   ]
  },
  {
   "cell_type": "markdown",
   "metadata": {},
   "source": [
    "**Exponential smoothing**\n",
    "\n",
    "Exponential smoothing is the basis for some of the most powerful forecasting methods. Exponential smoothing produces forecasts based on weighted averages of past observations. In other words, these models produce forecasts where the forecast most closely resembles recent observations. Exponential smoothing techniques are extremely popular because they can be very effective predictors and can be applied to a wide variety of data and use cases.\n",
    "\n",
    "Common types of exponential smoothing include single exponential smoothing (SES), double exponential smoothing (DES), and triple exponential smoothing (TES, also known as the Holt-Winters method). SES forecasts are weighted averages of the time series itself while DES forecasts are weighted averages of both the trend and the time series. Finally, Holt Winters or TES forecasts are weighted averages of the seasonality, trend, and time series.\n",
    "\n",
    "The ETS model (referring to the explicit modeling of error, trend, and seasonality) is another type of exponential smoothing technique. ETS is similar to Holt-Winters but was developed after Holt-Winters. It uses a different optimization method for the model initialization and also overcomes some esoteric shortcomings of Holt-Winters that exist in relatively uncommon time series scenarios.\n",
    "\n",
    "**ARIMA models**\n",
    "\n",
    "Autoregressive integrated moving average, or ARIMA, models are another time series forecasting method. They are among the most widely used time series forecasting techniques — as widely used as exponential smoothing methods. While exponential smoothing methods generate forecasts based on historical components of the data, ARIMA models take advantage of autocorrelation to produce forecasts. Autocorrelation is when a time series displays correlation between the time series and a lagged version of the time series.\n",
    "\n",
    "There are two main types of ARIMA models, non-seasonal ARIMA models and seasonal ARIMA, or SARIMA, models. To define ARIMA and SARIMA, it’s helpful to first define autoregression. Autoregression is a time series model that uses observations from previous time steps as input to a regression equation to predict the value at the next time step. So, in an autoregressive model, the forecasts correspond to a linear combination of past values of the variable. And in a moving average model, the forecasts correspond to a linear combination of past forecast errors. The ARIMA models combine the two approaches.\n",
    "\n",
    "One of the underlying assumptions of an ARIMA model is that the time series is stationary. Stationary time series is a time series whose components do not depend on when the time series is observed. In other words, the time series doesn’t exhibit trend or seasonality. Because ARIMA models require the time series to be stationary, differencing may be a necessary preprocessing step before using an ARIMA model for forecasting.\n",
    "\n",
    "The SARIMA model extends ARIMA by adding a linear combination of seasonal past values and/or forecast errors.\n",
    "\n",
    "**Neural networks**\n",
    "\n",
    "Neural networks are growing in popularity. Neural networks aim to solve problems that would be impossible or difficult to solve with statistical or classical methods. Two of the most popular time series forecasting neural networks are artificial neural networks (ANNs) and recurrent neural networks (RNNs). ANNs were inspired by the way the nervous system and brain processes information. RNNs were designed to be able to remember important information about recent inputs, which they can then use to generate accurate forecasts.\n",
    "\n",
    "A long short term memory network (LSTM) is a type of RNN that is especially popular in the time series space. It has forget gates and feed forward mechanisms that allow the network to retain information, forget extraneous inputs, and update the forecasting procedure to model and forecast complex time series problems."
   ]
  },
  {
   "cell_type": "markdown",
   "metadata": {},
   "source": [
    "https://otexts.com/fpp2/what-can-be-forecast.html\n",
    "\n"
   ]
  },
  {
   "cell_type": "code",
   "execution_count": null,
   "metadata": {},
   "outputs": [],
   "source": []
  }
 ],
 "metadata": {
  "kernelspec": {
   "display_name": "Python 3",
   "language": "python",
   "name": "python3"
  },
  "language_info": {
   "codemirror_mode": {
    "name": "ipython",
    "version": 3
   },
   "file_extension": ".py",
   "mimetype": "text/x-python",
   "name": "python",
   "nbconvert_exporter": "python",
   "pygments_lexer": "ipython3",
   "version": "3.8.3"
  }
 },
 "nbformat": 4,
 "nbformat_minor": 4
}
